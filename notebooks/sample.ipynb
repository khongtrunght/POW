{
 "cells": [
  {
   "attachments": {},
   "cell_type": "markdown",
   "metadata": {},
   "source": [
    "# This is sample notebook"
   ]
  },
  {
   "cell_type": "code",
   "execution_count": null,
   "metadata": {},
   "outputs": [],
   "source": [
    "import os\n",
    "import sys\n",
    "sys.path.append(os.path.abspath(os.path.join('../')))\n",
    "import ot\n",
    "import numpy as np\n",
    "from src.pow.pow import partial_order_wasserstein"
   ]
  },
  {
   "cell_type": "code",
   "execution_count": null,
   "metadata": {},
   "outputs": [],
   "source": [
    "seq1 = np.random.rand(10,256)\n",
    "seq2 = np.random.rand(30,256)\n",
    "seq3 = np.random.rand(20,256)\n",
    "M12 = ot.dist(seq1, seq2, metric='euclidean')\n",
    "M23 = ot.dist(seq2, seq3, metric='euclidean')\n",
    "M13 = ot.dist(seq1, seq3, metric='euclidean')\n",
    "\n",
    "\n",
    "print(partial_order_wasserstein(M=M12, order_reg=0.1, m=0.8, return_dist=True))\n",
    "print(partial_order_wasserstein(M=M23, order_reg=0.1, m=0.8, return_dist=True))\n",
    "print(partial_order_wasserstein(M=M13, order_reg=0.1, m=0.8, return_dist=True))\n"
   ]
  },
  {
   "cell_type": "code",
   "execution_count": null,
   "metadata": {},
   "outputs": [],
   "source": []
  }
 ],
 "metadata": {
  "kernelspec": {
   "display_name": "project3",
   "language": "python",
   "name": "python3"
  },
  "language_info": {
   "codemirror_mode": {
    "name": "ipython",
    "version": 3
   },
   "file_extension": ".py",
   "mimetype": "text/x-python",
   "name": "python",
   "nbconvert_exporter": "python",
   "pygments_lexer": "ipython3",
   "version": "3.9.13"
  },
  "orig_nbformat": 4
 },
 "nbformat": 4,
 "nbformat_minor": 2
}
